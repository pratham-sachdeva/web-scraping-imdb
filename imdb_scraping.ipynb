{
 "cells": [
  {
   "cell_type": "code",
   "execution_count": 1,
   "id": "7e68cadd",
   "metadata": {},
   "outputs": [
    {
     "ename": "ModuleNotFoundError",
     "evalue": "No module named 'bs4'",
     "output_type": "error",
     "traceback": [
      "\u001b[1;31m---------------------------------------------------------------------------\u001b[0m",
      "\u001b[1;31mModuleNotFoundError\u001b[0m                       Traceback (most recent call last)",
      "\u001b[1;32mc:\\Users\\pratham\\Downloads\\Projects\\Web Scraping Projects\\imdb_scraping_singlepage .ipynb Cell 1\u001b[0m line \u001b[0;36m3\n\u001b[0;32m      <a href='vscode-notebook-cell:/c%3A/Users/pratham/Downloads/Projects/Web%20Scraping%20Projects/imdb_scraping_singlepage%20.ipynb#W0sZmlsZQ%3D%3D?line=0'>1</a>\u001b[0m \u001b[39mimport\u001b[39;00m \u001b[39mrequests\u001b[39;00m\n\u001b[0;32m      <a href='vscode-notebook-cell:/c%3A/Users/pratham/Downloads/Projects/Web%20Scraping%20Projects/imdb_scraping_singlepage%20.ipynb#W0sZmlsZQ%3D%3D?line=1'>2</a>\u001b[0m \u001b[39mfrom\u001b[39;00m \u001b[39mrequests\u001b[39;00m \u001b[39mimport\u001b[39;00m get\n\u001b[1;32m----> <a href='vscode-notebook-cell:/c%3A/Users/pratham/Downloads/Projects/Web%20Scraping%20Projects/imdb_scraping_singlepage%20.ipynb#W0sZmlsZQ%3D%3D?line=2'>3</a>\u001b[0m \u001b[39mfrom\u001b[39;00m \u001b[39mbs4\u001b[39;00m \u001b[39mimport\u001b[39;00m BeautifulSoup\n\u001b[0;32m      <a href='vscode-notebook-cell:/c%3A/Users/pratham/Downloads/Projects/Web%20Scraping%20Projects/imdb_scraping_singlepage%20.ipynb#W0sZmlsZQ%3D%3D?line=3'>4</a>\u001b[0m \u001b[39mimport\u001b[39;00m \u001b[39mpandas\u001b[39;00m \u001b[39mas\u001b[39;00m \u001b[39mpd\u001b[39;00m\n\u001b[0;32m      <a href='vscode-notebook-cell:/c%3A/Users/pratham/Downloads/Projects/Web%20Scraping%20Projects/imdb_scraping_singlepage%20.ipynb#W0sZmlsZQ%3D%3D?line=4'>5</a>\u001b[0m \u001b[39mimport\u001b[39;00m \u001b[39mnumpy\u001b[39;00m \u001b[39mas\u001b[39;00m \u001b[39mnp\u001b[39;00m\n",
      "\u001b[1;31mModuleNotFoundError\u001b[0m: No module named 'bs4'"
     ]
    }
   ],
   "source": [
    "import requests\n",
    "from requests import get\n",
    "from bs4 import BeautifulSoup\n",
    "import pandas as pd\n",
    "import numpy as np"
   ]
  },
  {
   "cell_type": "code",
   "execution_count": 167,
   "id": "1cdeda27",
   "metadata": {},
   "outputs": [],
   "source": [
    "imdb_url = \"https://www.imdb.com/search/title/?groups=top_100&start=1&ref_=adv_nxt\"\n",
    "\n",
    "headers = {\"Accept-Language\": \"en-US, en;q=0.5\"}\n",
    "\n",
    "results = requests.get(imdb_url, headers=headers)\n",
    "\n",
    "movie_soup = BeautifulSoup(results.text, \"html.parser\")"
   ]
  },
  {
   "cell_type": "code",
   "execution_count": 168,
   "id": "780813ea",
   "metadata": {},
   "outputs": [],
   "source": [
    "movie_name = []\n",
    "movie_years = []\n",
    "movie_runtime = []\n",
    "imdb_ratings = []\n",
    "metascores = []\n",
    "number_votes = []\n",
    "us_gross = []\n"
   ]
  },
  {
   "cell_type": "code",
   "execution_count": 169,
   "id": "f9227c26",
   "metadata": {},
   "outputs": [],
   "source": [
    "movie_div = movie_soup.find_all('div', class_='lister-item mode-advanced')"
   ]
  },
  {
   "cell_type": "code",
   "execution_count": 171,
   "id": "1f42d39c",
   "metadata": {},
   "outputs": [],
   "source": [
    "for container in movie_div:\n",
    "    name = container.h3.a.text\n",
    "    movie_name.append(name)\n",
    "\n",
    "    year = container.h3.find('span', class_='lister-item-year').text\n",
    "    movie_years.append(year)\n",
    "\n",
    "    runtime = container.p.find('span', class_='runtime').text if container.p.find('span', class_='runtime').text else '-'\n",
    "    movie_runtime.append(runtime)\n",
    "\n",
    "    imdb = float(container.strong.text)\n",
    "    imdb_ratings.append(imdb)\n",
    "\n",
    "    m_score = container.find('span', class_='metascore').text if container.find('span', class_='metascore') else '-'\n",
    "    metascores.append(m_score)\n",
    "\n",
    "    nv = container.find_all('span', attrs={'name': 'nv'})\n",
    "\n",
    "    vote = nv[0].text\n",
    "    number_votes.append(vote)\n",
    "\n",
    "    grosses = nv[1].text if '$' in nv[1].text else '-'\n",
    "    us_gross.append(grosses)\n",
    "    #grosses = nv[1].text if len(nv) > 1 else '-'\n",
    "    #us_gross.append(grosses)\n"
   ]
  },
  {
   "cell_type": "code",
   "execution_count": 140,
   "id": "337f6e15",
   "metadata": {},
   "outputs": [],
   "source": [
    "movies = pd.DataFrame({\n",
    "'movie_name': movie_name,\n",
    "'movie_year': movie_years,\n",
    "'movie_runtime': movie_runtime,\n",
    "'imdb_ratings': imdb_ratings,\n",
    "'metascore': metascores,\n",
    "'number_votes': number_votes,\n",
    "'us_gross_millions': us_gross,\n",
    "})"
   ]
  },
  {
   "cell_type": "code",
   "execution_count": 164,
   "id": "0316c7aa",
   "metadata": {},
   "outputs": [
    {
     "data": {
      "text/html": [
       "<div>\n",
       "<style scoped>\n",
       "    .dataframe tbody tr th:only-of-type {\n",
       "        vertical-align: middle;\n",
       "    }\n",
       "\n",
       "    .dataframe tbody tr th {\n",
       "        vertical-align: top;\n",
       "    }\n",
       "\n",
       "    .dataframe thead th {\n",
       "        text-align: right;\n",
       "    }\n",
       "</style>\n",
       "<table border=\"1\" class=\"dataframe\">\n",
       "  <thead>\n",
       "    <tr style=\"text-align: right;\">\n",
       "      <th></th>\n",
       "      <th>movie_name</th>\n",
       "      <th>movie_year</th>\n",
       "      <th>movie_runtime</th>\n",
       "      <th>imdb_ratings</th>\n",
       "      <th>metascore</th>\n",
       "      <th>number_votes</th>\n",
       "      <th>us_gross_millions</th>\n",
       "    </tr>\n",
       "  </thead>\n",
       "  <tbody>\n",
       "    <tr>\n",
       "      <th>0</th>\n",
       "      <td>Spider-Man: Across the Spider-Verse</td>\n",
       "      <td>(2023)</td>\n",
       "      <td>140 min</td>\n",
       "      <td>8.9</td>\n",
       "      <td>86</td>\n",
       "      <td>182,373</td>\n",
       "      <td>-</td>\n",
       "    </tr>\n",
       "    <tr>\n",
       "      <th>1</th>\n",
       "      <td>Raiders of the Lost Ark</td>\n",
       "      <td>(1981)</td>\n",
       "      <td>115 min</td>\n",
       "      <td>8.4</td>\n",
       "      <td>85</td>\n",
       "      <td>1,002,308</td>\n",
       "      <td>$248.16M</td>\n",
       "    </tr>\n",
       "    <tr>\n",
       "      <th>2</th>\n",
       "      <td>Spider-Man: Into the Spider-Verse</td>\n",
       "      <td>(2018)</td>\n",
       "      <td>117 min</td>\n",
       "      <td>8.4</td>\n",
       "      <td>87</td>\n",
       "      <td>607,726</td>\n",
       "      <td>$190.24M</td>\n",
       "    </tr>\n",
       "    <tr>\n",
       "      <th>3</th>\n",
       "      <td>Interstellar</td>\n",
       "      <td>(2014)</td>\n",
       "      <td>169 min</td>\n",
       "      <td>8.7</td>\n",
       "      <td>74</td>\n",
       "      <td>1,936,047</td>\n",
       "      <td>$188.02M</td>\n",
       "    </tr>\n",
       "    <tr>\n",
       "      <th>4</th>\n",
       "      <td>The Shawshank Redemption</td>\n",
       "      <td>(1994)</td>\n",
       "      <td>142 min</td>\n",
       "      <td>9.3</td>\n",
       "      <td>82</td>\n",
       "      <td>2,765,891</td>\n",
       "      <td>$28.34M</td>\n",
       "    </tr>\n",
       "  </tbody>\n",
       "</table>\n",
       "</div>"
      ],
      "text/plain": [
       "                            movie_name movie_year movie_runtime  imdb_ratings  \\\n",
       "0  Spider-Man: Across the Spider-Verse     (2023)       140 min           8.9   \n",
       "1              Raiders of the Lost Ark     (1981)       115 min           8.4   \n",
       "2    Spider-Man: Into the Spider-Verse     (2018)       117 min           8.4   \n",
       "3                         Interstellar     (2014)       169 min           8.7   \n",
       "4             The Shawshank Redemption     (1994)       142 min           9.3   \n",
       "\n",
       "    metascore number_votes us_gross_millions  \n",
       "0  86              182,373                 -  \n",
       "1  85            1,002,308          $248.16M  \n",
       "2  87              607,726          $190.24M  \n",
       "3  74            1,936,047          $188.02M  \n",
       "4  82            2,765,891           $28.34M  "
      ]
     },
     "execution_count": 164,
     "metadata": {},
     "output_type": "execute_result"
    }
   ],
   "source": [
    "movies.head(5)"
   ]
  },
  {
   "cell_type": "code",
   "execution_count": 165,
   "id": "0214a4a1",
   "metadata": {},
   "outputs": [
    {
     "name": "stdout",
     "output_type": "stream",
     "text": [
      "<class 'pandas.core.frame.DataFrame'>\n",
      "RangeIndex: 50 entries, 0 to 49\n",
      "Data columns (total 7 columns):\n",
      " #   Column             Non-Null Count  Dtype  \n",
      "---  ------             --------------  -----  \n",
      " 0   movie_name         50 non-null     object \n",
      " 1   movie_year         50 non-null     object \n",
      " 2   movie_runtime      50 non-null     object \n",
      " 3   imdb_ratings       50 non-null     float64\n",
      " 4   metascore          50 non-null     object \n",
      " 5   number_votes       50 non-null     object \n",
      " 6   us_gross_millions  50 non-null     object \n",
      "dtypes: float64(1), object(6)\n",
      "memory usage: 2.9+ KB\n"
     ]
    }
   ],
   "source": [
    "movies.info()"
   ]
  },
  {
   "cell_type": "code",
   "execution_count": 166,
   "id": "454a6ca4",
   "metadata": {},
   "outputs": [
    {
     "data": {
      "text/html": [
       "<div>\n",
       "<style scoped>\n",
       "    .dataframe tbody tr th:only-of-type {\n",
       "        vertical-align: middle;\n",
       "    }\n",
       "\n",
       "    .dataframe tbody tr th {\n",
       "        vertical-align: top;\n",
       "    }\n",
       "\n",
       "    .dataframe thead th {\n",
       "        text-align: right;\n",
       "    }\n",
       "</style>\n",
       "<table border=\"1\" class=\"dataframe\">\n",
       "  <thead>\n",
       "    <tr style=\"text-align: right;\">\n",
       "      <th></th>\n",
       "      <th>imdb_ratings</th>\n",
       "    </tr>\n",
       "  </thead>\n",
       "  <tbody>\n",
       "    <tr>\n",
       "      <th>count</th>\n",
       "      <td>50.000000</td>\n",
       "    </tr>\n",
       "    <tr>\n",
       "      <th>mean</th>\n",
       "      <td>8.604000</td>\n",
       "    </tr>\n",
       "    <tr>\n",
       "      <th>std</th>\n",
       "      <td>0.249047</td>\n",
       "    </tr>\n",
       "    <tr>\n",
       "      <th>min</th>\n",
       "      <td>8.300000</td>\n",
       "    </tr>\n",
       "    <tr>\n",
       "      <th>25%</th>\n",
       "      <td>8.400000</td>\n",
       "    </tr>\n",
       "    <tr>\n",
       "      <th>50%</th>\n",
       "      <td>8.500000</td>\n",
       "    </tr>\n",
       "    <tr>\n",
       "      <th>75%</th>\n",
       "      <td>8.775000</td>\n",
       "    </tr>\n",
       "    <tr>\n",
       "      <th>max</th>\n",
       "      <td>9.300000</td>\n",
       "    </tr>\n",
       "  </tbody>\n",
       "</table>\n",
       "</div>"
      ],
      "text/plain": [
       "       imdb_ratings\n",
       "count     50.000000\n",
       "mean       8.604000\n",
       "std        0.249047\n",
       "min        8.300000\n",
       "25%        8.400000\n",
       "50%        8.500000\n",
       "75%        8.775000\n",
       "max        9.300000"
      ]
     },
     "execution_count": 166,
     "metadata": {},
     "output_type": "execute_result"
    }
   ],
   "source": [
    "movies.describe()"
   ]
  },
  {
   "cell_type": "code",
   "execution_count": null,
   "id": "a104ed79",
   "metadata": {},
   "outputs": [],
   "source": []
  }
 ],
 "metadata": {
  "kernelspec": {
   "display_name": "Python 3 (ipykernel)",
   "language": "python",
   "name": "python3"
  },
  "language_info": {
   "codemirror_mode": {
    "name": "ipython",
    "version": 3
   },
   "file_extension": ".py",
   "mimetype": "text/x-python",
   "name": "python",
   "nbconvert_exporter": "python",
   "pygments_lexer": "ipython3",
   "version": "3.10.7"
  }
 },
 "nbformat": 4,
 "nbformat_minor": 5
}
